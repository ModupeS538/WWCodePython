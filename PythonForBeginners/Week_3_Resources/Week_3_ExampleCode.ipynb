{
  "nbformat": 4,
  "nbformat_minor": 0,
  "metadata": {
    "colab": {
      "provenance": []
    },
    "kernelspec": {
      "name": "python3",
      "display_name": "Python 3"
    },
    "language_info": {
      "name": "python"
    }
  },
  "cells": [
    {
      "cell_type": "markdown",
      "source": [
        "# Week 3 Code Examples"
      ],
      "metadata": {
        "id": "_CBdFgzBPhWc"
      }
    },
    {
      "cell_type": "markdown",
      "source": [
        "## New Lines"
      ],
      "metadata": {
        "id": "S49X5DZgPOWK"
      }
    },
    {
      "cell_type": "markdown",
      "source": [
        "Two Ways to create new lines."
      ],
      "metadata": {
        "id": "8PxCgdUyQjTs"
      }
    },
    {
      "cell_type": "code",
      "source": [
        "##OPTION 1\n",
        "\n",
        "print(\"The lazy brown dog.\")\n",
        "print( )\n",
        "print(\"Jumped over the fence.\")"
      ],
      "metadata": {
        "id": "fTFDAgZPP7X1",
        "colab": {
          "base_uri": "https://localhost:8080/"
        },
        "outputId": "40fd6d8e-be45-4ad6-a7c6-d9c37bf15dd9"
      },
      "execution_count": 1,
      "outputs": [
        {
          "output_type": "stream",
          "name": "stdout",
          "text": [
            "The lazy brown dog.\n",
            "\n",
            "Jumped over the fence.\n"
          ]
        }
      ]
    },
    {
      "cell_type": "code",
      "source": [
        "##OPTION 2\n",
        "\n",
        "print(\"The lazy brown dog.\\nJumped over the fence.\")"
      ],
      "metadata": {
        "id": "aSaFzAVNQg6y",
        "colab": {
          "base_uri": "https://localhost:8080/"
        },
        "outputId": "e665cbe8-6741-41c8-8946-e0692ac27bb5"
      },
      "execution_count": 2,
      "outputs": [
        {
          "output_type": "stream",
          "name": "stdout",
          "text": [
            "The lazy brown dog.\n",
            "Jumped over the fence.\n"
          ]
        }
      ]
    },
    {
      "cell_type": "markdown",
      "source": [
        "## Print Examples"
      ],
      "metadata": {
        "id": "LQP0bT2gOJ7q"
      }
    },
    {
      "cell_type": "code",
      "execution_count": 3,
      "metadata": {
        "id": "nXZgSBa5N6ki",
        "colab": {
          "base_uri": "https://localhost:8080/"
        },
        "outputId": "c8822f1e-965f-497a-a8b8-b4ed976c7b39"
      },
      "outputs": [
        {
          "output_type": "stream",
          "name": "stdout",
          "text": [
            "Hello, World!\n"
          ]
        }
      ],
      "source": [
        "#Example 1: Print with 1 string argument\n",
        "\n",
        "print(\"Hello, World!\")"
      ]
    },
    {
      "cell_type": "code",
      "source": [
        "#Example 2: Print with 3 string arguments all on 1 line.\n",
        "#The print function puts a space between each argument on its own.\n",
        "\n",
        "print(\"The itsy bitsy spider\", \"climbed up\", \"the water spout.\")"
      ],
      "metadata": {
        "id": "sNPQh2WUObMp",
        "colab": {
          "base_uri": "https://localhost:8080/"
        },
        "outputId": "04b8d860-8b6e-463c-fed3-0afaebeeedff"
      },
      "execution_count": 4,
      "outputs": [
        {
          "output_type": "stream",
          "name": "stdout",
          "text": [
            "The itsy bitsy spider climbed up the water spout.\n"
          ]
        }
      ]
    },
    {
      "cell_type": "code",
      "source": [
        "#Example 3: Printing 2 lines\n",
        "\n",
        "print(\"The lazy brown dog.\")\n",
        "print(\"Jumped over the fence.\")"
      ],
      "metadata": {
        "id": "AYebwK4KOdZi",
        "colab": {
          "base_uri": "https://localhost:8080/"
        },
        "outputId": "3bb746be-c2ea-4d0e-a94b-648894c33da3"
      },
      "execution_count": 5,
      "outputs": [
        {
          "output_type": "stream",
          "name": "stdout",
          "text": [
            "The lazy brown dog.\n",
            "Jumped over the fence.\n"
          ]
        }
      ]
    },
    {
      "cell_type": "code",
      "source": [
        "#Example 4: Printing 2 lines with new line in between\n",
        "\n",
        "print(\"The lazy brown dog.\")\n",
        "print( )\n",
        "print(\"Jumped over the fence.\")"
      ],
      "metadata": {
        "id": "PaLanc9JOf5e",
        "colab": {
          "base_uri": "https://localhost:8080/"
        },
        "outputId": "eaac1e4a-5e92-4ebc-b630-5d22f47699b1"
      },
      "execution_count": 6,
      "outputs": [
        {
          "output_type": "stream",
          "name": "stdout",
          "text": [
            "The lazy brown dog.\n",
            "\n",
            "Jumped over the fence.\n"
          ]
        }
      ]
    },
    {
      "cell_type": "markdown",
      "source": [
        "## Escape (Backslash)"
      ],
      "metadata": {
        "id": "1BMEvuP1PRB5"
      }
    },
    {
      "cell_type": "code",
      "source": [
        "#Example 1: Easy to read version.\n",
        "\n",
        "print('Hello' + '\\n' + 'Next Line' + '\\n' + '\\t' + 'New Line and Tabbed Over')"
      ],
      "metadata": {
        "id": "sZET-LA3P8-J",
        "colab": {
          "base_uri": "https://localhost:8080/"
        },
        "outputId": "f17102ec-7a45-49f4-f30d-dfae5953f1e0"
      },
      "execution_count": 7,
      "outputs": [
        {
          "output_type": "stream",
          "name": "stdout",
          "text": [
            "Hello\n",
            "Next Line\n",
            "\tNew Line and Tabbed Over\n"
          ]
        }
      ]
    },
    {
      "cell_type": "code",
      "source": [
        "#Example 2: Hard to read version\n",
        "\n",
        "print('Hello\\nNext Line\\n\\tNew Line and Tabbed Over')"
      ],
      "metadata": {
        "id": "7XvyJfrFROqs",
        "colab": {
          "base_uri": "https://localhost:8080/"
        },
        "outputId": "628c93ff-0a19-4d15-ada4-f90026183a28"
      },
      "execution_count": 8,
      "outputs": [
        {
          "output_type": "stream",
          "name": "stdout",
          "text": [
            "Hello\n",
            "Next Line\n",
            "\tNew Line and Tabbed Over\n"
          ]
        }
      ]
    },
    {
      "cell_type": "code",
      "source": [
        "#Example 3: Escape single quote\n",
        "\n",
        "print('Say Hi to Bob\\'s mother.')"
      ],
      "metadata": {
        "id": "VOEswDMfRQ4O",
        "colab": {
          "base_uri": "https://localhost:8080/"
        },
        "outputId": "5fff6395-934b-4659-a9a5-5c4e74b4c780"
      },
      "execution_count": 9,
      "outputs": [
        {
          "output_type": "stream",
          "name": "stdout",
          "text": [
            "Say Hi to Bob's mother.\n"
          ]
        }
      ]
    },
    {
      "cell_type": "markdown",
      "source": [
        "## End Keyword"
      ],
      "metadata": {
        "id": "nblWB6AyPXiZ"
      }
    },
    {
      "cell_type": "code",
      "source": [
        "##Example 1: Without end.\n",
        "\n",
        "print('Hello')\n",
        "print('People')"
      ],
      "metadata": {
        "id": "IYFV00WQP-FT",
        "colab": {
          "base_uri": "https://localhost:8080/"
        },
        "outputId": "eb834287-22ab-4619-d972-dac3fc416e32"
      },
      "execution_count": 10,
      "outputs": [
        {
          "output_type": "stream",
          "name": "stdout",
          "text": [
            "Hello\n",
            "People\n"
          ]
        }
      ]
    },
    {
      "cell_type": "code",
      "source": [
        "#Example 2: With end means leave the cursor on the same line\n",
        "\n",
        "print('Hello', end=' ')\n",
        "print('People')"
      ],
      "metadata": {
        "id": "imGbQcKyRfGG",
        "colab": {
          "base_uri": "https://localhost:8080/"
        },
        "outputId": "df538683-982e-4f8f-b3b1-90372d3359fd"
      },
      "execution_count": 11,
      "outputs": [
        {
          "output_type": "stream",
          "name": "stdout",
          "text": [
            "Hello People\n"
          ]
        }
      ]
    },
    {
      "cell_type": "code",
      "source": [
        "#Example 3: End with newline command means print newline\n",
        "\n",
        "print('Hello', end='\\n')\n",
        "print('People')"
      ],
      "metadata": {
        "id": "ZmRUR_8nRiEb",
        "colab": {
          "base_uri": "https://localhost:8080/"
        },
        "outputId": "088c4790-3ccb-414c-f6bf-6aa88549899c"
      },
      "execution_count": 12,
      "outputs": [
        {
          "output_type": "stream",
          "name": "stdout",
          "text": [
            "Hello\n",
            "People\n"
          ]
        }
      ]
    },
    {
      "cell_type": "markdown",
      "source": [
        "## Sep Keyword"
      ],
      "metadata": {
        "id": "mUdCgNSaPdei"
      }
    },
    {
      "cell_type": "code",
      "source": [
        "#Example 1: Print without sep\n",
        "\n",
        "print('ham', 'eggs', 'toast')"
      ],
      "metadata": {
        "id": "R7_5VC7ZQI_n",
        "colab": {
          "base_uri": "https://localhost:8080/"
        },
        "outputId": "87c9f143-c3d5-4d9c-e725-b300a512e5fd"
      },
      "execution_count": 13,
      "outputs": [
        {
          "output_type": "stream",
          "name": "stdout",
          "text": [
            "ham eggs toast\n"
          ]
        }
      ]
    },
    {
      "cell_type": "code",
      "source": [
        "#Example 2: Put a & between values\n",
        "\n",
        "print('ham', 'eggs', 'toast', sep='&')"
      ],
      "metadata": {
        "id": "uFv69tqfRrW4",
        "colab": {
          "base_uri": "https://localhost:8080/"
        },
        "outputId": "9370e2da-b941-48b3-f8e3-ea9a9f0c5c2e"
      },
      "execution_count": 14,
      "outputs": [
        {
          "output_type": "stream",
          "name": "stdout",
          "text": [
            "ham&eggs&toast\n"
          ]
        }
      ]
    },
    {
      "cell_type": "code",
      "source": [
        "#Example 3: With both end and sep\n",
        "\n",
        "print('Peter', 'Bill', 'Moly', sep=' & ',end='*')"
      ],
      "metadata": {
        "id": "a7Sgjh91RtzD",
        "colab": {
          "base_uri": "https://localhost:8080/"
        },
        "outputId": "ffd846e1-2c33-42de-a3d0-a52e144daf20"
      },
      "execution_count": 15,
      "outputs": [
        {
          "output_type": "stream",
          "name": "stdout",
          "text": [
            "Peter & Bill & Moly*"
          ]
        }
      ]
    }
  ]
}